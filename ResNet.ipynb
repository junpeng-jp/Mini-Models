{
  "nbformat": 4,
  "nbformat_minor": 0,
  "metadata": {
    "orig_nbformat": 2,
    "kernelspec": {
      "name": "python3",
      "display_name": "Python 3"
    },
    "colab": {
      "name": "ResNet.ipynb",
      "provenance": [],
      "toc_visible": true
    },
    "accelerator": "GPU",
    "widgets": {
      "application/vnd.jupyter.widget-state+json": {
        "a979def2af1942a9abf3fb737c1ca0e5": {
          "model_module": "@jupyter-widgets/controls",
          "model_name": "HBoxModel",
          "state": {
            "_view_name": "HBoxView",
            "_dom_classes": [],
            "_model_name": "HBoxModel",
            "_view_module": "@jupyter-widgets/controls",
            "_model_module_version": "1.5.0",
            "_view_count": null,
            "_view_module_version": "1.5.0",
            "box_style": "",
            "layout": "IPY_MODEL_c65497b76bbd40a49f54630f1ddc3119",
            "_model_module": "@jupyter-widgets/controls",
            "children": [
              "IPY_MODEL_97bfbfeef75a48b3a179571b8667f0e5",
              "IPY_MODEL_e14937aeb6e34ce1a338cd19e4141f90"
            ]
          }
        },
        "c65497b76bbd40a49f54630f1ddc3119": {
          "model_module": "@jupyter-widgets/base",
          "model_name": "LayoutModel",
          "state": {
            "_view_name": "LayoutView",
            "grid_template_rows": null,
            "right": null,
            "justify_content": null,
            "_view_module": "@jupyter-widgets/base",
            "overflow": null,
            "_model_module_version": "1.2.0",
            "_view_count": null,
            "flex_flow": null,
            "width": null,
            "min_width": null,
            "border": null,
            "align_items": null,
            "bottom": null,
            "_model_module": "@jupyter-widgets/base",
            "top": null,
            "grid_column": null,
            "overflow_y": null,
            "overflow_x": null,
            "grid_auto_flow": null,
            "grid_area": null,
            "grid_template_columns": null,
            "flex": null,
            "_model_name": "LayoutModel",
            "justify_items": null,
            "grid_row": null,
            "max_height": null,
            "align_content": null,
            "visibility": null,
            "align_self": null,
            "height": null,
            "min_height": null,
            "padding": null,
            "grid_auto_rows": null,
            "grid_gap": null,
            "max_width": null,
            "order": null,
            "_view_module_version": "1.2.0",
            "grid_template_areas": null,
            "object_position": null,
            "object_fit": null,
            "grid_auto_columns": null,
            "margin": null,
            "display": null,
            "left": null
          }
        },
        "97bfbfeef75a48b3a179571b8667f0e5": {
          "model_module": "@jupyter-widgets/controls",
          "model_name": "FloatProgressModel",
          "state": {
            "_view_name": "ProgressView",
            "style": "IPY_MODEL_7b094cc123cf4a779aee35568dbdba5b",
            "_dom_classes": [],
            "description": "",
            "_model_name": "FloatProgressModel",
            "bar_style": "info",
            "max": 1,
            "_view_module": "@jupyter-widgets/controls",
            "_model_module_version": "1.5.0",
            "value": 1,
            "_view_count": null,
            "_view_module_version": "1.5.0",
            "orientation": "horizontal",
            "min": 0,
            "description_tooltip": null,
            "_model_module": "@jupyter-widgets/controls",
            "layout": "IPY_MODEL_c5586ed12be944dfacc34b5eda2dd210"
          }
        },
        "e14937aeb6e34ce1a338cd19e4141f90": {
          "model_module": "@jupyter-widgets/controls",
          "model_name": "HTMLModel",
          "state": {
            "_view_name": "HTMLView",
            "style": "IPY_MODEL_70915c94f8f14b559476524ad9b4be38",
            "_dom_classes": [],
            "description": "",
            "_model_name": "HTMLModel",
            "placeholder": "​",
            "_view_module": "@jupyter-widgets/controls",
            "_model_module_version": "1.5.0",
            "value": " 170500096/? [00:20&lt;00:00, 33068953.04it/s]",
            "_view_count": null,
            "_view_module_version": "1.5.0",
            "description_tooltip": null,
            "_model_module": "@jupyter-widgets/controls",
            "layout": "IPY_MODEL_bc7437a4d68444fd82c6ad1bfef0a2b1"
          }
        },
        "7b094cc123cf4a779aee35568dbdba5b": {
          "model_module": "@jupyter-widgets/controls",
          "model_name": "ProgressStyleModel",
          "state": {
            "_view_name": "StyleView",
            "_model_name": "ProgressStyleModel",
            "description_width": "initial",
            "_view_module": "@jupyter-widgets/base",
            "_model_module_version": "1.5.0",
            "_view_count": null,
            "_view_module_version": "1.2.0",
            "bar_color": null,
            "_model_module": "@jupyter-widgets/controls"
          }
        },
        "c5586ed12be944dfacc34b5eda2dd210": {
          "model_module": "@jupyter-widgets/base",
          "model_name": "LayoutModel",
          "state": {
            "_view_name": "LayoutView",
            "grid_template_rows": null,
            "right": null,
            "justify_content": null,
            "_view_module": "@jupyter-widgets/base",
            "overflow": null,
            "_model_module_version": "1.2.0",
            "_view_count": null,
            "flex_flow": null,
            "width": null,
            "min_width": null,
            "border": null,
            "align_items": null,
            "bottom": null,
            "_model_module": "@jupyter-widgets/base",
            "top": null,
            "grid_column": null,
            "overflow_y": null,
            "overflow_x": null,
            "grid_auto_flow": null,
            "grid_area": null,
            "grid_template_columns": null,
            "flex": null,
            "_model_name": "LayoutModel",
            "justify_items": null,
            "grid_row": null,
            "max_height": null,
            "align_content": null,
            "visibility": null,
            "align_self": null,
            "height": null,
            "min_height": null,
            "padding": null,
            "grid_auto_rows": null,
            "grid_gap": null,
            "max_width": null,
            "order": null,
            "_view_module_version": "1.2.0",
            "grid_template_areas": null,
            "object_position": null,
            "object_fit": null,
            "grid_auto_columns": null,
            "margin": null,
            "display": null,
            "left": null
          }
        },
        "70915c94f8f14b559476524ad9b4be38": {
          "model_module": "@jupyter-widgets/controls",
          "model_name": "DescriptionStyleModel",
          "state": {
            "_view_name": "StyleView",
            "_model_name": "DescriptionStyleModel",
            "description_width": "",
            "_view_module": "@jupyter-widgets/base",
            "_model_module_version": "1.5.0",
            "_view_count": null,
            "_view_module_version": "1.2.0",
            "_model_module": "@jupyter-widgets/controls"
          }
        },
        "bc7437a4d68444fd82c6ad1bfef0a2b1": {
          "model_module": "@jupyter-widgets/base",
          "model_name": "LayoutModel",
          "state": {
            "_view_name": "LayoutView",
            "grid_template_rows": null,
            "right": null,
            "justify_content": null,
            "_view_module": "@jupyter-widgets/base",
            "overflow": null,
            "_model_module_version": "1.2.0",
            "_view_count": null,
            "flex_flow": null,
            "width": null,
            "min_width": null,
            "border": null,
            "align_items": null,
            "bottom": null,
            "_model_module": "@jupyter-widgets/base",
            "top": null,
            "grid_column": null,
            "overflow_y": null,
            "overflow_x": null,
            "grid_auto_flow": null,
            "grid_area": null,
            "grid_template_columns": null,
            "flex": null,
            "_model_name": "LayoutModel",
            "justify_items": null,
            "grid_row": null,
            "max_height": null,
            "align_content": null,
            "visibility": null,
            "align_self": null,
            "height": null,
            "min_height": null,
            "padding": null,
            "grid_auto_rows": null,
            "grid_gap": null,
            "max_width": null,
            "order": null,
            "_view_module_version": "1.2.0",
            "grid_template_areas": null,
            "object_position": null,
            "object_fit": null,
            "grid_auto_columns": null,
            "margin": null,
            "display": null,
            "left": null
          }
        }
      }
    }
  },
  "cells": [
    {
      "cell_type": "markdown",
      "metadata": {
        "id": "gslSxVFLyTwt",
        "colab_type": "text"
      },
      "source": [
        "# ResNet\n",
        "\n",
        "Papers:\n",
        "\n",
        "[Deep Residual Learning for Image Recognition](https://arxiv.org/pdf/1512.03385.pdf)\n",
        "\n",
        "[Aggregated Residual Transformations for Deep Neural Networks](https://arxiv.org/pdf/1611.05431.pdf)"
      ]
    },
    {
      "cell_type": "markdown",
      "metadata": {
        "id": "vm0AS0_AyTwu",
        "colab_type": "text"
      },
      "source": [
        "## Degradation of Training Accuracy in Deep Neural Networks\n",
        "\n",
        "Researchers have identified an issue where adding more layers to deep networks result in poorer training errors. \n",
        "\n",
        "The authors of the first paper isolated this issue from vanishing gradients through an experiment involving stacking identity layers. This issue is termed as degradation and the paper aims to address this issue."
      ]
    },
    {
      "cell_type": "markdown",
      "metadata": {
        "id": "oQG5RD4tyTwu",
        "colab_type": "text"
      },
      "source": [
        "## Learning Residuals\n",
        "\n",
        "The degradation problem highlighted difficulties in fitting optimal complex functions in Deep Neural Networks.\n",
        "\n",
        "To tackle this, the authors reformulated the optimal function into 2 parts - the original inputs $x$ and the residuals $F(x)$"
      ]
    },
    {
      "cell_type": "markdown",
      "metadata": {
        "id": "lBozxDAOyTwv",
        "colab_type": "text"
      },
      "source": [
        "## Two Types of Residual Connections\n",
        "\n",
        "There are 2 types of residual unit proposed in the paper:\n",
        "\n",
        "<div>\n",
        "<img src=\"./assets/ResNetUnit.png\" width = 800px>\n",
        "</div>\n",
        "\n",
        "| Non-bottleneck | Bottleneck |\n",
        "|----------------|------------|\n",
        "| Effectively solves the degradation issue | Degradation still observed |\n",
        "| Requires more computation resource | More economical |"
      ]
    },
    {
      "cell_type": "code",
      "metadata": {
        "id": "nSGYl_zryTwv",
        "colab_type": "code",
        "colab": {}
      },
      "source": [
        "import torch\n",
        "import torch.nn as nn"
      ],
      "execution_count": 3,
      "outputs": []
    },
    {
      "cell_type": "code",
      "metadata": {
        "id": "vGcwlOEFyTwy",
        "colab_type": "code",
        "colab": {}
      },
      "source": [
        "def projection(inChannel, outChannel, stride=1):\n",
        "    return nn.Sequential(\n",
        "        nn.Conv2d(inChannel, outChannel, 1, stride=stride),\n",
        "        nn.BatchNorm2d(outChannel)\n",
        "    )"
      ],
      "execution_count": 4,
      "outputs": []
    },
    {
      "cell_type": "code",
      "metadata": {
        "id": "s8Dc1esTyTw0",
        "colab_type": "code",
        "colab": {}
      },
      "source": [
        "class ResBasic(torch.nn.Module):\n",
        "    @staticmethod\n",
        "    def unit(inChannel, outChannel, filterSize=3, stride=1):\n",
        "        return nn.Sequential(\n",
        "            nn.Conv2d(inChannel, outChannel, filterSize, stride=stride, padding=filterSize//2),\n",
        "            nn.BatchNorm2d(outChannel),\n",
        "            nn.ReLU(inplace=True),\n",
        "            nn.Conv2d(outChannel, outChannel, filterSize, padding=filterSize//2),\n",
        "            nn.BatchNorm2d(outChannel)\n",
        "        )\n",
        "\n",
        "    def __init__(self, inChannel, outChannel, filterSize=3, stride=1):\n",
        "        super().__init__()\n",
        "\n",
        "        self.residual = ResBasic.unit(inChannel, outChannel, filterSize, stride)\n",
        "        self.projection = projection(inChannel, outChannel, stride) if stride > 1 else None\n",
        "        self.relu = nn.ReLU(inplace=True)\n",
        "\n",
        "    def forward(self, input):\n",
        "        out = self.residual(input)\n",
        "        eye = input\n",
        "        if self.projection:\n",
        "            eye = self.projection(eye)\n",
        "        \n",
        "        out += eye\n",
        "        out = self.relu(out)\n",
        "\n",
        "        return out"
      ],
      "execution_count": 5,
      "outputs": []
    },
    {
      "cell_type": "code",
      "metadata": {
        "id": "BqFQ3xfYyTw2",
        "colab_type": "code",
        "colab": {}
      },
      "source": [
        "class ResBottleneck(torch.nn.Module):\n",
        "    @staticmethod\n",
        "    def unit(inChannel, embedDim, outChannel, filterSize=3, stride=1, groups=1):\n",
        "        return nn.Sequential(\n",
        "            nn.Conv2d(inChannel, embedDim, 1),\n",
        "            nn.BatchNorm2d(embedDim),\n",
        "            nn.ReLU(inplace=True),\n",
        "            nn.Conv2d(embedDim, embedDim, filterSize, stride=stride, padding=filterSize//2, groups = groups),\n",
        "            nn.BatchNorm2d(embedDim),\n",
        "            nn.ReLU(inplace=True),\n",
        "            nn.Conv2d(embedDim, outChannel, 1),\n",
        "            nn.BatchNorm2d(outChannel)\n",
        "        )\n",
        "\n",
        "    def __init__(self, inChannel, embedDim, outChannel, filterSize=3, stride=1, groups=1):\n",
        "        super().__init__()\n",
        "        \n",
        "        self.residual = ResBottleneck.unit(inChannel, embedDim, outChannel, filterSize, stride, groups)\n",
        "        self.projection = projection(inChannel, outChannel, stride) if stride > 1 else None\n",
        "        self.relu = nn.ReLU(inplace=True)\n",
        "\n",
        "    def forward(self, input):\n",
        "        out = self.residual(input)\n",
        "        eye = input\n",
        "        if self.projection:\n",
        "            eye = self.projection(eye)\n",
        "        \n",
        "        out += eye\n",
        "        out = self.relu(out)\n",
        "\n",
        "        return out"
      ],
      "execution_count": 6,
      "outputs": []
    },
    {
      "cell_type": "code",
      "metadata": {
        "id": "ThzoqlhiyTw5",
        "colab_type": "code",
        "colab": {}
      },
      "source": [
        "class ResNet20(torch.nn.Module):\n",
        "    def __init__(self, nClass):\n",
        "        super().__init__()\n",
        "        self.conv1 = nn.Conv2d(3, 16, 3, stride=1, padding=1)\n",
        "        self.conv2 = nn.Sequential(\n",
        "            ResBasic(16, 16, 3, stride = 1),\n",
        "            ResBasic(16, 16, 3, stride = 1),\n",
        "            ResBasic(16, 16, 3, stride = 1),\n",
        "            ResBasic(16, 16, 3, stride = 1),\n",
        "            ResBasic(16, 16, 3, stride = 1),\n",
        "            ResBasic(16, 16, 3, stride = 1)\n",
        "        )\n",
        "        self.conv3 = nn.Sequential(\n",
        "            ResBasic(16, 32, 3, stride = 2),\n",
        "            ResBasic(32, 32, 3, stride = 1),\n",
        "            ResBasic(32, 32, 3, stride = 1),\n",
        "            ResBasic(32, 32, 3, stride = 1),\n",
        "            ResBasic(32, 32, 3, stride = 1),\n",
        "            ResBasic(32, 32, 3, stride = 1)\n",
        "        )\n",
        "        self.conv4 = nn.Sequential(\n",
        "            ResBasic(32, 64, 3, stride = 2),\n",
        "            ResBasic(64, 64, 3, stride = 1),\n",
        "            ResBasic(64, 64, 3, stride = 1),\n",
        "            ResBasic(64, 64, 3, stride = 1),\n",
        "            ResBasic(64, 64, 3, stride = 1),\n",
        "            ResBasic(64, 64, 3, stride = 1)\n",
        "        )\n",
        "        self.classifier = nn.Sequential(\n",
        "            nn.Dropout(0.4),\n",
        "            nn.AvgPool2d(8),\n",
        "            nn.Flatten(),\n",
        "            nn.Linear(64, nClass)\n",
        "        )\n",
        "    \n",
        "    def forward(self, input):\n",
        "        out = self.conv1(input)\n",
        "        out = self.conv2(out)\n",
        "        out = self.conv3(out)\n",
        "        out = self.conv4(out)\n",
        "        out = self.classifier(out)\n",
        "\n",
        "        return out"
      ],
      "execution_count": 7,
      "outputs": []
    },
    {
      "cell_type": "code",
      "metadata": {
        "id": "JzgZFDe8yTw7",
        "colab_type": "code",
        "colab": {}
      },
      "source": [
        "def resNetInit(l):\n",
        "    if isinstance(l, nn.Conv2d):\n",
        "        nn.init.kaiming_normal_(l.weight, mode='fan_out', nonlinearity='relu')\n",
        "    elif isinstance(l, nn.BatchNorm2d):\n",
        "        nn.init.constant_(l.weight, 1)\n",
        "        nn.init.constant_(l.bias, 0)"
      ],
      "execution_count": 8,
      "outputs": []
    },
    {
      "cell_type": "code",
      "metadata": {
        "id": "gCvNJnQByTw9",
        "colab_type": "code",
        "colab": {}
      },
      "source": [
        "from torch.optim import Adam\n",
        "from torch.nn.init import kaiming_normal_, normal_\n",
        "from torch.utils.data import DataLoader\n",
        "from torchvision.transforms import ToTensor\n",
        "from torchvision.datasets import CIFAR10\n",
        "\n",
        "import training"
      ],
      "execution_count": 11,
      "outputs": []
    },
    {
      "cell_type": "code",
      "metadata": {
        "id": "aRDj5v9myTw_",
        "colab_type": "code",
        "colab": {}
      },
      "source": [
        "import os\n",
        "\n",
        "# seeding the random number generators\n",
        "# ensures some form of determinism in the outputs \n",
        "seed = 2020\n",
        "torch.backends.cudnn.deterministic = True\n",
        "torch.backends.cudnn.benchmark = False\n",
        "torch.manual_seed(seed)\n",
        "torch.cuda.manual_seed(seed)\n",
        "os.environ['PYTHONHASHSEED']=str(seed)"
      ],
      "execution_count": 12,
      "outputs": []
    },
    {
      "cell_type": "code",
      "metadata": {
        "id": "bP4cY_aLyTxB",
        "colab_type": "code",
        "colab": {
          "base_uri": "https://localhost:8080/",
          "height": 100,
          "referenced_widgets": [
            "a979def2af1942a9abf3fb737c1ca0e5",
            "c65497b76bbd40a49f54630f1ddc3119",
            "97bfbfeef75a48b3a179571b8667f0e5",
            "e14937aeb6e34ce1a338cd19e4141f90",
            "7b094cc123cf4a779aee35568dbdba5b",
            "c5586ed12be944dfacc34b5eda2dd210",
            "70915c94f8f14b559476524ad9b4be38",
            "bc7437a4d68444fd82c6ad1bfef0a2b1"
          ]
        },
        "outputId": "3bd73c99-ea78-4841-896b-00c0c9a0a614"
      },
      "source": [
        "# We will be using the CIFAR-10 dataset\n",
        "trainset = CIFAR10(\n",
        "    root = \"../data\",\n",
        "    train = True,\n",
        "    download = True,\n",
        "    transform = ToTensor()\n",
        ")\n",
        "\n",
        "testset = CIFAR10(\n",
        "    root = \"../data\",\n",
        "    train = False,\n",
        "    download = True,\n",
        "    transform = ToTensor()\n",
        ")"
      ],
      "execution_count": 13,
      "outputs": [
        {
          "output_type": "stream",
          "text": [
            "Downloading https://www.cs.toronto.edu/~kriz/cifar-10-python.tar.gz to ../data/cifar-10-python.tar.gz\n"
          ],
          "name": "stdout"
        },
        {
          "output_type": "display_data",
          "data": {
            "application/vnd.jupyter.widget-view+json": {
              "model_id": "a979def2af1942a9abf3fb737c1ca0e5",
              "version_minor": 0,
              "version_major": 2
            },
            "text/plain": [
              "HBox(children=(FloatProgress(value=1.0, bar_style='info', max=1.0), HTML(value='')))"
            ]
          },
          "metadata": {
            "tags": []
          }
        },
        {
          "output_type": "stream",
          "text": [
            "Extracting ../data/cifar-10-python.tar.gz to ../data\n",
            "Files already downloaded and verified\n"
          ],
          "name": "stdout"
        }
      ]
    },
    {
      "cell_type": "code",
      "metadata": {
        "id": "AbO1gIDIyTxE",
        "colab_type": "code",
        "colab": {}
      },
      "source": [
        "trainer = training.Trainer(nEpoch=30, logInterval=50)"
      ],
      "execution_count": 14,
      "outputs": []
    },
    {
      "cell_type": "code",
      "metadata": {
        "id": "6J8Gli8SyTxG",
        "colab_type": "code",
        "colab": {}
      },
      "source": [
        "trainer.addDataloader(\n",
        "    dataloader = DataLoader(\n",
        "        trainset, batch_size=256,\n",
        "        shuffle=True, num_workers=0),\n",
        "    loaderType = 'train')\n",
        "\n",
        "trainer.addDataloader(\n",
        "    dataloader = DataLoader(\n",
        "        testset, batch_size=256, \n",
        "        shuffle=True, num_workers=0),\n",
        "    loaderType = 'test')\n",
        "\n",
        "trainer.addLossFn(nn.CrossEntropyLoss())"
      ],
      "execution_count": 15,
      "outputs": []
    },
    {
      "cell_type": "code",
      "metadata": {
        "id": "VtxfmX2UyTxI",
        "colab_type": "code",
        "colab": {}
      },
      "source": [
        "model = ResNet20(10)\n",
        "model.apply(resNetInit)\n",
        "\n",
        "optimizer = Adam(model.parameters())"
      ],
      "execution_count": 16,
      "outputs": []
    },
    {
      "cell_type": "code",
      "metadata": {
        "id": "TEj4O71uyTxK",
        "colab_type": "code",
        "colab": {
          "base_uri": "https://localhost:8080/",
          "height": 1000
        },
        "outputId": "c2b8fbbd-aded-4b2c-f423-c9401744f490"
      },
      "source": [
        "trainer.train(model, optimizer)"
      ],
      "execution_count": 17,
      "outputs": [
        {
          "output_type": "stream",
          "text": [
            "Epoch [ 1 /30 ]  Batch [ 50  / 196 ]  Loss: 1.6961\n",
            "Epoch [ 1 /30 ]  Batch [ 100 / 196 ]  Loss: 1.4852\n",
            "Epoch [ 1 /30 ]  Batch [ 150 / 196 ]  Loss: 1.3472\n",
            "Epoch [ 1 /30 ]  Batch [ 196 / 196 ]  Loss: 1.1108\n",
            "Epoch [ 2 /30 ]  Batch [ 50  / 196 ]  Loss: 1.1717\n",
            "Epoch [ 2 /30 ]  Batch [ 100 / 196 ]  Loss: 1.0661\n",
            "Epoch [ 2 /30 ]  Batch [ 150 / 196 ]  Loss: 1.1081\n",
            "Epoch [ 2 /30 ]  Batch [ 196 / 196 ]  Loss: 1.1111\n",
            "Epoch [ 3 /30 ]  Batch [ 50  / 196 ]  Loss: 0.9284\n",
            "Epoch [ 3 /30 ]  Batch [ 100 / 196 ]  Loss: 0.8890\n",
            "Epoch [ 3 /30 ]  Batch [ 150 / 196 ]  Loss: 0.9364\n",
            "Epoch [ 3 /30 ]  Batch [ 196 / 196 ]  Loss: 0.9380\n",
            "Epoch [ 4 /30 ]  Batch [ 50  / 196 ]  Loss: 0.8116\n",
            "Epoch [ 4 /30 ]  Batch [ 100 / 196 ]  Loss: 0.8093\n",
            "Epoch [ 4 /30 ]  Batch [ 150 / 196 ]  Loss: 0.8441\n",
            "Epoch [ 4 /30 ]  Batch [ 196 / 196 ]  Loss: 0.7622\n",
            "Epoch [ 5 /30 ]  Batch [ 50  / 196 ]  Loss: 0.7218\n",
            "Epoch [ 5 /30 ]  Batch [ 100 / 196 ]  Loss: 0.6327\n",
            "Epoch [ 5 /30 ]  Batch [ 150 / 196 ]  Loss: 0.6332\n",
            "Epoch [ 5 /30 ]  Batch [ 196 / 196 ]  Loss: 0.6860\n",
            "Epoch [ 6 /30 ]  Batch [ 50  / 196 ]  Loss: 0.5600\n",
            "Epoch [ 6 /30 ]  Batch [ 100 / 196 ]  Loss: 0.6579\n",
            "Epoch [ 6 /30 ]  Batch [ 150 / 196 ]  Loss: 0.5826\n",
            "Epoch [ 6 /30 ]  Batch [ 196 / 196 ]  Loss: 0.4916\n",
            "Epoch [ 7 /30 ]  Batch [ 50  / 196 ]  Loss: 0.4154\n",
            "Epoch [ 7 /30 ]  Batch [ 100 / 196 ]  Loss: 0.5343\n",
            "Epoch [ 7 /30 ]  Batch [ 150 / 196 ]  Loss: 0.5330\n",
            "Epoch [ 7 /30 ]  Batch [ 196 / 196 ]  Loss: 0.4421\n",
            "Epoch [ 8 /30 ]  Batch [ 50  / 196 ]  Loss: 0.3917\n",
            "Epoch [ 8 /30 ]  Batch [ 100 / 196 ]  Loss: 0.3980\n",
            "Epoch [ 8 /30 ]  Batch [ 150 / 196 ]  Loss: 0.5399\n",
            "Epoch [ 8 /30 ]  Batch [ 196 / 196 ]  Loss: 0.3225\n",
            "Epoch [ 9 /30 ]  Batch [ 50  / 196 ]  Loss: 0.3724\n",
            "Epoch [ 9 /30 ]  Batch [ 100 / 196 ]  Loss: 0.3579\n",
            "Epoch [ 9 /30 ]  Batch [ 150 / 196 ]  Loss: 0.4430\n",
            "Epoch [ 9 /30 ]  Batch [ 196 / 196 ]  Loss: 0.3336\n",
            "Epoch [10 /30 ]  Batch [ 50  / 196 ]  Loss: 0.3745\n",
            "Epoch [10 /30 ]  Batch [ 100 / 196 ]  Loss: 0.4665\n",
            "Epoch [10 /30 ]  Batch [ 150 / 196 ]  Loss: 0.3440\n",
            "Epoch [10 /30 ]  Batch [ 196 / 196 ]  Loss: 0.4521\n",
            "Epoch [11 /30 ]  Batch [ 50  / 196 ]  Loss: 0.2841\n",
            "Epoch [11 /30 ]  Batch [ 100 / 196 ]  Loss: 0.2421\n",
            "Epoch [11 /30 ]  Batch [ 150 / 196 ]  Loss: 0.3554\n",
            "Epoch [11 /30 ]  Batch [ 196 / 196 ]  Loss: 0.3910\n",
            "Epoch [12 /30 ]  Batch [ 50  / 196 ]  Loss: 0.2503\n",
            "Epoch [12 /30 ]  Batch [ 100 / 196 ]  Loss: 0.2545\n",
            "Epoch [12 /30 ]  Batch [ 150 / 196 ]  Loss: 0.2073\n",
            "Epoch [12 /30 ]  Batch [ 196 / 196 ]  Loss: 0.2920\n",
            "Epoch [13 /30 ]  Batch [ 50  / 196 ]  Loss: 0.2168\n",
            "Epoch [13 /30 ]  Batch [ 100 / 196 ]  Loss: 0.2019\n",
            "Epoch [13 /30 ]  Batch [ 150 / 196 ]  Loss: 0.1831\n",
            "Epoch [13 /30 ]  Batch [ 196 / 196 ]  Loss: 0.2470\n",
            "Epoch [14 /30 ]  Batch [ 50  / 196 ]  Loss: 0.1503\n",
            "Epoch [14 /30 ]  Batch [ 100 / 196 ]  Loss: 0.2110\n",
            "Epoch [14 /30 ]  Batch [ 150 / 196 ]  Loss: 0.2419\n",
            "Epoch [14 /30 ]  Batch [ 196 / 196 ]  Loss: 0.2855\n",
            "Epoch [15 /30 ]  Batch [ 50  / 196 ]  Loss: 0.2188\n",
            "Epoch [15 /30 ]  Batch [ 100 / 196 ]  Loss: 0.1713\n",
            "Epoch [15 /30 ]  Batch [ 150 / 196 ]  Loss: 0.1878\n",
            "Epoch [15 /30 ]  Batch [ 196 / 196 ]  Loss: 0.3725\n",
            "Epoch [16 /30 ]  Batch [ 50  / 196 ]  Loss: 0.1072\n",
            "Epoch [16 /30 ]  Batch [ 100 / 196 ]  Loss: 0.1810\n",
            "Epoch [16 /30 ]  Batch [ 150 / 196 ]  Loss: 0.1804\n",
            "Epoch [16 /30 ]  Batch [ 196 / 196 ]  Loss: 0.2269\n",
            "Epoch [17 /30 ]  Batch [ 50  / 196 ]  Loss: 0.0963\n",
            "Epoch [17 /30 ]  Batch [ 100 / 196 ]  Loss: 0.1309\n",
            "Epoch [17 /30 ]  Batch [ 150 / 196 ]  Loss: 0.1272\n",
            "Epoch [17 /30 ]  Batch [ 196 / 196 ]  Loss: 0.2605\n",
            "Epoch [18 /30 ]  Batch [ 50  / 196 ]  Loss: 0.0725\n",
            "Epoch [18 /30 ]  Batch [ 100 / 196 ]  Loss: 0.1793\n",
            "Epoch [18 /30 ]  Batch [ 150 / 196 ]  Loss: 0.1671\n",
            "Epoch [18 /30 ]  Batch [ 196 / 196 ]  Loss: 0.1339\n",
            "Epoch [19 /30 ]  Batch [ 50  / 196 ]  Loss: 0.1222\n",
            "Epoch [19 /30 ]  Batch [ 100 / 196 ]  Loss: 0.1143\n",
            "Epoch [19 /30 ]  Batch [ 150 / 196 ]  Loss: 0.1090\n",
            "Epoch [19 /30 ]  Batch [ 196 / 196 ]  Loss: 0.1159\n",
            "Epoch [20 /30 ]  Batch [ 50  / 196 ]  Loss: 0.0564\n",
            "Epoch [20 /30 ]  Batch [ 100 / 196 ]  Loss: 0.1064\n",
            "Epoch [20 /30 ]  Batch [ 150 / 196 ]  Loss: 0.1880\n",
            "Epoch [20 /30 ]  Batch [ 196 / 196 ]  Loss: 0.1032\n",
            "Epoch [21 /30 ]  Batch [ 50  / 196 ]  Loss: 0.0722\n",
            "Epoch [21 /30 ]  Batch [ 100 / 196 ]  Loss: 0.0511\n",
            "Epoch [21 /30 ]  Batch [ 150 / 196 ]  Loss: 0.1130\n",
            "Epoch [21 /30 ]  Batch [ 196 / 196 ]  Loss: 0.2080\n",
            "Epoch [22 /30 ]  Batch [ 50  / 196 ]  Loss: 0.1070\n",
            "Epoch [22 /30 ]  Batch [ 100 / 196 ]  Loss: 0.1167\n",
            "Epoch [22 /30 ]  Batch [ 150 / 196 ]  Loss: 0.1341\n",
            "Epoch [22 /30 ]  Batch [ 196 / 196 ]  Loss: 0.1250\n",
            "Epoch [23 /30 ]  Batch [ 50  / 196 ]  Loss: 0.0512\n",
            "Epoch [23 /30 ]  Batch [ 100 / 196 ]  Loss: 0.0579\n",
            "Epoch [23 /30 ]  Batch [ 150 / 196 ]  Loss: 0.1020\n",
            "Epoch [23 /30 ]  Batch [ 196 / 196 ]  Loss: 0.0474\n",
            "Epoch [24 /30 ]  Batch [ 50  / 196 ]  Loss: 0.0698\n",
            "Epoch [24 /30 ]  Batch [ 100 / 196 ]  Loss: 0.0899\n",
            "Epoch [24 /30 ]  Batch [ 150 / 196 ]  Loss: 0.0678\n",
            "Epoch [24 /30 ]  Batch [ 196 / 196 ]  Loss: 0.0818\n",
            "Epoch [25 /30 ]  Batch [ 50  / 196 ]  Loss: 0.0910\n",
            "Epoch [25 /30 ]  Batch [ 100 / 196 ]  Loss: 0.1013\n",
            "Epoch [25 /30 ]  Batch [ 150 / 196 ]  Loss: 0.1253\n",
            "Epoch [25 /30 ]  Batch [ 196 / 196 ]  Loss: 0.0479\n",
            "Epoch [26 /30 ]  Batch [ 50  / 196 ]  Loss: 0.0488\n",
            "Epoch [26 /30 ]  Batch [ 100 / 196 ]  Loss: 0.0839\n",
            "Epoch [26 /30 ]  Batch [ 150 / 196 ]  Loss: 0.0484\n",
            "Epoch [26 /30 ]  Batch [ 196 / 196 ]  Loss: 0.0852\n",
            "Epoch [27 /30 ]  Batch [ 50  / 196 ]  Loss: 0.0757\n",
            "Epoch [27 /30 ]  Batch [ 100 / 196 ]  Loss: 0.0507\n",
            "Epoch [27 /30 ]  Batch [ 150 / 196 ]  Loss: 0.1097\n",
            "Epoch [27 /30 ]  Batch [ 196 / 196 ]  Loss: 0.0681\n",
            "Epoch [28 /30 ]  Batch [ 50  / 196 ]  Loss: 0.0386\n",
            "Epoch [28 /30 ]  Batch [ 100 / 196 ]  Loss: 0.0405\n",
            "Epoch [28 /30 ]  Batch [ 150 / 196 ]  Loss: 0.0807\n",
            "Epoch [28 /30 ]  Batch [ 196 / 196 ]  Loss: 0.0906\n",
            "Epoch [29 /30 ]  Batch [ 50  / 196 ]  Loss: 0.0369\n",
            "Epoch [29 /30 ]  Batch [ 100 / 196 ]  Loss: 0.0625\n",
            "Epoch [29 /30 ]  Batch [ 150 / 196 ]  Loss: 0.0397\n",
            "Epoch [29 /30 ]  Batch [ 196 / 196 ]  Loss: 0.0511\n",
            "Epoch [30 /30 ]  Batch [ 50  / 196 ]  Loss: 0.0448\n",
            "Epoch [30 /30 ]  Batch [ 100 / 196 ]  Loss: 0.0417\n",
            "Epoch [30 /30 ]  Batch [ 150 / 196 ]  Loss: 0.0858\n",
            "Epoch [30 /30 ]  Batch [ 196 / 196 ]  Loss: 0.0955\n"
          ],
          "name": "stdout"
        }
      ]
    },
    {
      "cell_type": "code",
      "metadata": {
        "id": "gZnqqysoyTxM",
        "colab_type": "code",
        "colab": {}
      },
      "source": [
        "trainer.test(model, 10)"
      ],
      "execution_count": 18,
      "outputs": []
    },
    {
      "cell_type": "code",
      "metadata": {
        "id": "gW7YpV-20r8T",
        "colab_type": "code",
        "colab": {
          "base_uri": "https://localhost:8080/",
          "height": 34
        },
        "outputId": "da746ac5-9ac4-42d0-a539-acc6effb7bdc"
      },
      "source": [
        "# Accuracy\n",
        "torch.true_divide(torch.diagonal(trainer.confMatrix).sum(), trainer.confMatrix.sum()).item()"
      ],
      "execution_count": 19,
      "outputs": [
        {
          "output_type": "execute_result",
          "data": {
            "text/plain": [
              "0.7479000091552734"
            ]
          },
          "metadata": {
            "tags": []
          },
          "execution_count": 19
        }
      ]
    },
    {
      "cell_type": "code",
      "metadata": {
        "id": "Pg-A5Id80tGJ",
        "colab_type": "code",
        "colab": {
          "base_uri": "https://localhost:8080/",
          "height": 187
        },
        "outputId": "f5a06d54-9cf8-4045-9133-54c0ce3cbbf8"
      },
      "source": [
        "trainer.confMatrix"
      ],
      "execution_count": 20,
      "outputs": [
        {
          "output_type": "execute_result",
          "data": {
            "text/plain": [
              "tensor([[867,  18,  90,  24,  43,  10,  12,  27, 113,  57],\n",
              "        [  9, 881,   2,   2,   0,   3,   4,   2,  17,  79],\n",
              "        [ 36,   0, 630,  45,  71,  42,  50,  23,   8,   7],\n",
              "        [ 32,  27, 112, 691,  92, 276, 102,  70,  20,  29],\n",
              "        [  7,   3,  54,  48, 677,  32,  11,  53,   2,   2],\n",
              "        [  6,   1,  42, 104,  31, 584,  22,  47,   4,   6],\n",
              "        [  5,   9,  38,  52,  46,  21, 788,  10,   4,   5],\n",
              "        [  4,   5,  18,  22,  38,  29,   3, 760,   7,   7],\n",
              "        [ 23,  11,   6,   6,   1,   1,   6,   0, 807,  14],\n",
              "        [ 11,  45,   8,   6,   1,   2,   2,   8,  18, 794]])"
            ]
          },
          "metadata": {
            "tags": []
          },
          "execution_count": 20
        }
      ]
    },
    {
      "cell_type": "code",
      "metadata": {
        "id": "W9_05jrU3w3T",
        "colab_type": "code",
        "colab": {}
      },
      "source": [
        ""
      ],
      "execution_count": null,
      "outputs": []
    }
  ]
}